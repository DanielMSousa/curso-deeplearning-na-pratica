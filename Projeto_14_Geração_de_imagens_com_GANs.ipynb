{
  "nbformat": 4,
  "nbformat_minor": 0,
  "metadata": {
    "colab": {
      "name": "Projeto #14: Geração de imagens com GANs.ipynb",
      "provenance": [],
      "collapsed_sections": [],
      "include_colab_link": true
    },
    "kernelspec": {
      "name": "python3",
      "display_name": "Python 3"
    },
    "accelerator": "GPU"
  },
  "cells": [
    {
      "cell_type": "markdown",
      "metadata": {
        "id": "view-in-github",
        "colab_type": "text"
      },
      "source": [
        "<a href=\"https://colab.research.google.com/github/DanielMSousa/curso-deeplearning-na-pratica/blob/main/Projeto_14_Gera%C3%A7%C3%A3o_de_imagens_com_GANs.ipynb\" target=\"_parent\"><img src=\"https://colab.research.google.com/assets/colab-badge.svg\" alt=\"Open In Colab\"/></a>"
      ]
    },
    {
      "cell_type": "markdown",
      "metadata": {
        "id": "M27qF7CTrBqc"
      },
      "source": [
        "# Projeto 14: Geração de imagens com GANs"
      ]
    },
    {
      "cell_type": "markdown",
      "metadata": {
        "id": "1CEdoaEDUy7V"
      },
      "source": [
        "- Código adaptado da documentação: https://www.tensorflow.org/beta/tutorials/generative/dcgan\n",
        "\n",
        "\n"
      ]
    },
    {
      "cell_type": "markdown",
      "metadata": {
        "id": "zKmFmyaGunc7"
      },
      "source": [
        "# Etapa 1: Importação das bibliotecas"
      ]
    },
    {
      "cell_type": "code",
      "metadata": {
        "id": "nkilXv26_KTH",
        "colab": {
          "base_uri": "https://localhost:8080/",
          "height": 36
        },
        "outputId": "34b58f08-4353-4500-e0f0-047ed6c272a3"
      },
      "source": [
        "%tensorflow_version 2.x\n",
        "import matplotlib.pyplot as plt\n",
        "import numpy as np\n",
        "import os\n",
        "import PIL\n",
        "from tensorflow.keras import layers\n",
        "import time\n",
        "from IPython import display\n",
        "import tensorflow as tf\n",
        "tf.__version__"
      ],
      "execution_count": 1,
      "outputs": [
        {
          "output_type": "execute_result",
          "data": {
            "text/plain": [
              "'2.8.0'"
            ],
            "application/vnd.google.colaboratory.intrinsic+json": {
              "type": "string"
            }
          },
          "metadata": {},
          "execution_count": 1
        }
      ]
    },
    {
      "cell_type": "markdown",
      "metadata": {
        "id": "uAE6Icc0uylP"
      },
      "source": [
        "# Etapa 2: Importação e tratamento da base de dados"
      ]
    },
    {
      "cell_type": "code",
      "metadata": {
        "id": "5P_ciLXawMZg"
      },
      "source": [
        "(train_images, train_labels), (_, _) = tf.keras.datasets.fashion_mnist.load_data()"
      ],
      "execution_count": 2,
      "outputs": []
    },
    {
      "cell_type": "code",
      "metadata": {
        "id": "Lj_7M8Ta2fjK",
        "colab": {
          "base_uri": "https://localhost:8080/"
        },
        "outputId": "1f37774c-79ea-4be2-f9f4-fa044fb3f293"
      },
      "source": [
        "train_images.shape"
      ],
      "execution_count": 3,
      "outputs": [
        {
          "output_type": "execute_result",
          "data": {
            "text/plain": [
              "(60000, 28, 28)"
            ]
          },
          "metadata": {},
          "execution_count": 3
        }
      ]
    },
    {
      "cell_type": "code",
      "metadata": {
        "id": "DC8ZLSBK2iM4",
        "colab": {
          "base_uri": "https://localhost:8080/"
        },
        "outputId": "4699bd47-6c57-4520-e7f1-898fcf3d517a"
      },
      "source": [
        "train_labels.shape"
      ],
      "execution_count": 4,
      "outputs": [
        {
          "output_type": "execute_result",
          "data": {
            "text/plain": [
              "(60000,)"
            ]
          },
          "metadata": {},
          "execution_count": 4
        }
      ]
    },
    {
      "cell_type": "code",
      "metadata": {
        "id": "tUbmhQed2V9f"
      },
      "source": [
        "train_images = train_images.reshape(train_images.shape[0], 28, 28, 1).astype('float32')"
      ],
      "execution_count": 5,
      "outputs": []
    },
    {
      "cell_type": "code",
      "metadata": {
        "id": "Tv261Ul43Q_G",
        "colab": {
          "base_uri": "https://localhost:8080/"
        },
        "outputId": "7f9a16d9-5e26-4042-eb94-89380a031e8e"
      },
      "source": [
        "train_images.shape"
      ],
      "execution_count": 6,
      "outputs": [
        {
          "output_type": "execute_result",
          "data": {
            "text/plain": [
              "(60000, 28, 28, 1)"
            ]
          },
          "metadata": {},
          "execution_count": 6
        }
      ]
    },
    {
      "cell_type": "code",
      "metadata": {
        "id": "wf9jgEoE2tUc"
      },
      "source": [
        "# Normalização entre -1 e 1\n",
        "train_images = (train_images - 127.5) / 127.5"
      ],
      "execution_count": 7,
      "outputs": []
    },
    {
      "cell_type": "code",
      "metadata": {
        "id": "EbRYvHSa2Nkd"
      },
      "source": [
        "buffer_size = 60000\n",
        "batch_size = 256"
      ],
      "execution_count": 8,
      "outputs": []
    },
    {
      "cell_type": "code",
      "metadata": {
        "id": "xUcE_UfXP7ex"
      },
      "source": [
        "train_dataset = tf.data.Dataset.from_tensor_slices(train_images).shuffle(buffer_size).batch(batch_size)"
      ],
      "execution_count": 9,
      "outputs": []
    },
    {
      "cell_type": "code",
      "metadata": {
        "id": "HWxs6fjiQE5c",
        "colab": {
          "base_uri": "https://localhost:8080/"
        },
        "outputId": "3a73561e-b660-4178-b571-9ca856af159c"
      },
      "source": [
        "train_dataset"
      ],
      "execution_count": 10,
      "outputs": [
        {
          "output_type": "execute_result",
          "data": {
            "text/plain": [
              "<BatchDataset element_spec=TensorSpec(shape=(None, 28, 28, 1), dtype=tf.float32, name=None)>"
            ]
          },
          "metadata": {},
          "execution_count": 10
        }
      ]
    },
    {
      "cell_type": "markdown",
      "metadata": {
        "id": "LlszUhNNyrl_"
      },
      "source": [
        "# Etapa 3: Visualização dos dados"
      ]
    },
    {
      "cell_type": "code",
      "metadata": {
        "id": "ronVvCdJsYc5",
        "colab": {
          "base_uri": "https://localhost:8080/",
          "height": 283
        },
        "outputId": "71f6a664-11a0-471a-913c-0560c8f8a717"
      },
      "source": [
        "plt.imshow(train_images[112].reshape((28,28)) , cmap = 'gray')"
      ],
      "execution_count": 11,
      "outputs": [
        {
          "output_type": "execute_result",
          "data": {
            "text/plain": [
              "<matplotlib.image.AxesImage at 0x7fd64025bf10>"
            ]
          },
          "metadata": {},
          "execution_count": 11
        },
        {
          "output_type": "display_data",
          "data": {
            "text/plain": [
              "<Figure size 432x288 with 1 Axes>"
            ],
            "image/png": "[encoded data removed]"
          },
          "metadata": {
            "needs_background": "light"
          }
        }
      ]
    },
    {
      "cell_type": "markdown",
      "metadata": {
        "id": "Y0GmpAjG3GiH"
      },
      "source": [
        "# Etapa 4: Construção do gerador"
      ]
    },
    {
      "cell_type": "code",
      "metadata": {
        "id": "QkPICwnUR7nX"
      },
      "source": [
        "def make_generator_model():\n",
        "  model = tf.keras.Sequential()\n",
        "  model.add(layers.Dense(7*7*256, use_bias=False, input_shape = (100, ))) #12544\n",
        "  model.add(layers.BatchNormalization())\n",
        "  model.add(layers.LeakyReLU())\n",
        "\n",
        "  model.add(layers.Reshape((7, 7, 256)))\n",
        "\n",
        "  #7x7x128 - filtros\n",
        "  model.add(layers.Conv2DTranspose(128, (5, 5), strides=(1, 1), padding='same'))\n",
        "  model.add(layers.BatchNormalization())\n",
        "  model.add(layers.LeakyReLU())\n",
        "\n",
        "  #7x7x64 - filtros\n",
        "  model.add(layers.Conv2DTranspose(64, (5, 5), strides=(2, 2), padding='same'))\n",
        "  model.add(layers.BatchNormalization())\n",
        "  model.add(layers.LeakyReLU())\n",
        "  #saida: 14x14x64\n",
        "\n",
        "  #7x7x64 - filtros\n",
        "  model.add(layers.Conv2DTranspose(1, (5, 5), strides=(2, 2), padding='same', use_bias=False, activation='tanh'))\n",
        "\n",
        "  model.summary()\n",
        "\n",
        "  return model\n",
        "\n",
        "\n"
      ],
      "execution_count": 12,
      "outputs": []
    },
    {
      "cell_type": "code",
      "metadata": {
        "id": "LwNlRTqyepj_"
      },
      "source": [
        "noise = tf.random.normal([1, 100])"
      ],
      "execution_count": 13,
      "outputs": []
    },
    {
      "cell_type": "code",
      "source": [
        "noise"
      ],
      "metadata": {
        "colab": {
          "base_uri": "https://localhost:8080/"
        },
        "id": "GSUuccN3vW7J",
        "outputId": "301631ed-037e-497d-a3a1-2cc28075259e"
      },
      "execution_count": 14,
      "outputs": [
        {
          "output_type": "execute_result",
          "data": {
            "text/plain": [
              "<tf.Tensor: shape=(1, 100), dtype=float32, numpy=\n",
              "array([[ 0.6834917 ,  1.8964229 , -0.3376083 ,  0.7360506 ,  1.3924062 ,\n",
              "        -0.16605078, -0.39168137, -1.223969  ,  0.05295035,  1.409398  ,\n",
              "        -0.3873138 , -1.1444573 ,  0.5533998 , -0.64711833, -1.5368384 ,\n",
              "         0.43597084,  0.9307647 ,  1.1285906 , -0.73260784, -0.04978077,\n",
              "         0.40679362,  1.0454975 , -0.1467054 ,  0.30255607,  1.7163224 ,\n",
              "         2.2085059 ,  0.33938628, -0.40227935, -0.04670194,  0.15987553,\n",
              "         0.5590347 , -0.303033  ,  0.72294694,  0.21242024,  0.06426553,\n",
              "        -0.14722596,  0.6874513 , -0.3020488 ,  1.3166778 , -0.7251194 ,\n",
              "         1.453139  ,  0.17024966,  0.12348117, -1.2499163 , -0.7477073 ,\n",
              "        -0.32049003,  0.01993686, -0.22732347,  0.61268425,  1.2689421 ,\n",
              "        -0.12206834, -0.0338158 ,  0.34359753, -0.1433937 , -0.26652125,\n",
              "        -1.4686936 ,  0.04503652,  0.4183516 , -2.2542586 ,  1.0401782 ,\n",
              "        -2.401728  , -1.2504282 , -0.9241306 ,  0.8954959 , -0.47416887,\n",
              "         0.17908856, -0.344409  ,  0.81370497, -1.8147153 ,  1.2451346 ,\n",
              "        -0.8043174 , -0.14924034, -1.5194061 ,  0.82998097, -1.1285126 ,\n",
              "         1.3058673 ,  0.11672904, -1.8338733 , -1.2378244 ,  0.3169897 ,\n",
              "         2.331531  , -0.7809674 , -0.2512529 , -1.3030323 ,  1.1531914 ,\n",
              "        -0.19438033,  1.3271313 , -0.22013013,  0.6675695 ,  0.93735105,\n",
              "         0.3537958 ,  1.264588  ,  0.44684765, -2.9369154 , -0.91614074,\n",
              "         1.9821719 ,  0.32093212, -0.86555964, -0.30546024,  0.74781466]],\n",
              "      dtype=float32)>"
            ]
          },
          "metadata": {},
          "execution_count": 14
        }
      ]
    },
    {
      "cell_type": "code",
      "metadata": {
        "id": "wMqKlmhBevD8",
        "colab": {
          "base_uri": "https://localhost:8080/"
        },
        "outputId": "b9da0887-a0ad-492c-8095-f3faecce922e"
      },
      "source": [
        "generator = make_generator_model()"
      ],
      "execution_count": 15,
      "outputs": [
        {
          "output_type": "stream",
          "name": "stdout",
          "text": [
            "Model: \"sequential\"\n",
            "_________________________________________________________________\n",
            " Layer (type)                Output Shape              Param #   \n",
            "=================================================================\n",
            " dense (Dense)               (None, 12544)             1254400   \n",
            "                                                                 \n",
            " batch_normalization (BatchN  (None, 12544)            50176     \n",
            " ormalization)                                                   \n",
            "                                                                 \n",
            " leaky_re_lu (LeakyReLU)     (None, 12544)             0         \n",
            "                                                                 \n",
            " reshape (Reshape)           (None, 7, 7, 256)         0         \n",
            "                                                                 \n",
            " conv2d_transpose (Conv2DTra  (None, 7, 7, 128)        819328    \n",
            " nspose)                                                         \n",
            "                                                                 \n",
            " batch_normalization_1 (Batc  (None, 7, 7, 128)        512       \n",
            " hNormalization)                                                 \n",
            "                                                                 \n",
            " leaky_re_lu_1 (LeakyReLU)   (None, 7, 7, 128)         0         \n",
            "                                                                 \n",
            " conv2d_transpose_1 (Conv2DT  (None, 14, 14, 64)       204864    \n",
            " ranspose)                                                       \n",
            "                                                                 \n",
            " batch_normalization_2 (Batc  (None, 14, 14, 64)       256       \n",
            " hNormalization)                                                 \n",
            "                                                                 \n",
            " leaky_re_lu_2 (LeakyReLU)   (None, 14, 14, 64)        0         \n",
            "                                                                 \n",
            " conv2d_transpose_2 (Conv2DT  (None, 28, 28, 1)        1600      \n",
            " ranspose)                                                       \n",
            "                                                                 \n",
            "=================================================================\n",
            "Total params: 2,331,136\n",
            "Trainable params: 2,305,664\n",
            "Non-trainable params: 25,472\n",
            "_________________________________________________________________\n"
          ]
        }
      ]
    },
    {
      "cell_type": "code",
      "metadata": {
        "id": "Bqx0BOjGfYn-"
      },
      "source": [
        "generated_image = generator(noise, training = False)"
      ],
      "execution_count": 16,
      "outputs": []
    },
    {
      "cell_type": "code",
      "source": [
        "generated_image.shape"
      ],
      "metadata": {
        "colab": {
          "base_uri": "https://localhost:8080/"
        },
        "id": "ssreefnSz7om",
        "outputId": "016f2341-85cb-4df3-f5ff-9cc995e534b2"
      },
      "execution_count": 17,
      "outputs": [
        {
          "output_type": "execute_result",
          "data": {
            "text/plain": [
              "TensorShape([1, 28, 28, 1])"
            ]
          },
          "metadata": {},
          "execution_count": 17
        }
      ]
    },
    {
      "cell_type": "code",
      "metadata": {
        "id": "jvfESeBafsrL",
        "colab": {
          "base_uri": "https://localhost:8080/",
          "height": 283
        },
        "outputId": "bb61428c-4355-45dd-a1f4-f6419c1f4d7f"
      },
      "source": [
        "plt.imshow(np.squeeze(generated_image), cmap='gray')"
      ],
      "execution_count": 18,
      "outputs": [
        {
          "output_type": "execute_result",
          "data": {
            "text/plain": [
              "<matplotlib.image.AxesImage at 0x7fd5c8f35310>"
            ]
          },
          "metadata": {},
          "execution_count": 18
        },
        {
          "output_type": "display_data",
          "data": {
            "text/plain": [
              "<Figure size 432x288 with 1 Axes>"
            ],
            "image/png": "[encoded data removed]"
          },
          "metadata": {
            "needs_background": "light"
          }
        }
      ]
    },
    {
      "cell_type": "markdown",
      "metadata": {
        "id": "53qDZFRn3-S1"
      },
      "source": [
        "# Etapa 5: Construção do discriminador"
      ]
    },
    {
      "cell_type": "code",
      "metadata": {
        "id": "pzXywbIxg4Sk"
      },
      "source": [
        "def make_discrimator_model():\n",
        "  model = tf.keras.Sequential()\n",
        "  # 14x14x64\n",
        "  model.add(layers.Conv2D(64, (5,5), strides = (2,2), padding='same', input_shape=[28,28,1]))\n",
        "  model.add(layers.LeakyReLU())\n",
        "  model.add(layers.Dropout(0.3))\n",
        "\n",
        "  # 7x7x128\n",
        "  model.add(layers.Conv2D(128, (5,5), strides = (2,2), padding='same'))\n",
        "  model.add(layers.LeakyReLU())\n",
        "  model.add(layers.Dropout(0.3))\n",
        "\n",
        "  # 6272\n",
        "  model.add(layers.Flatten())\n",
        "  model.add(layers.Dense(1))\n",
        "\n",
        "  model.summary()\n",
        "\n",
        "  return model"
      ],
      "execution_count": 19,
      "outputs": []
    },
    {
      "cell_type": "code",
      "metadata": {
        "id": "FECxiL_7iHA1",
        "colab": {
          "base_uri": "https://localhost:8080/"
        },
        "outputId": "f72e80f8-4dbb-49dc-d672-1e21db6b5ec8"
      },
      "source": [
        "discriminator = make_discrimator_model()"
      ],
      "execution_count": 20,
      "outputs": [
        {
          "output_type": "stream",
          "name": "stdout",
          "text": [
            "Model: \"sequential_1\"\n",
            "_________________________________________________________________\n",
            " Layer (type)                Output Shape              Param #   \n",
            "=================================================================\n",
            " conv2d (Conv2D)             (None, 14, 14, 64)        1664      \n",
            "                                                                 \n",
            " leaky_re_lu_3 (LeakyReLU)   (None, 14, 14, 64)        0         \n",
            "                                                                 \n",
            " dropout (Dropout)           (None, 14, 14, 64)        0         \n",
            "                                                                 \n",
            " conv2d_1 (Conv2D)           (None, 7, 7, 128)         204928    \n",
            "                                                                 \n",
            " leaky_re_lu_4 (LeakyReLU)   (None, 7, 7, 128)         0         \n",
            "                                                                 \n",
            " dropout_1 (Dropout)         (None, 7, 7, 128)         0         \n",
            "                                                                 \n",
            " flatten (Flatten)           (None, 6272)              0         \n",
            "                                                                 \n",
            " dense_1 (Dense)             (None, 1)                 6273      \n",
            "                                                                 \n",
            "=================================================================\n",
            "Total params: 212,865\n",
            "Trainable params: 212,865\n",
            "Non-trainable params: 0\n",
            "_________________________________________________________________\n"
          ]
        }
      ]
    },
    {
      "cell_type": "code",
      "metadata": {
        "id": "3kCEOHsLiaYq",
        "colab": {
          "base_uri": "https://localhost:8080/"
        },
        "outputId": "57ccf3aa-f59b-4216-a721-030d3c62f23c"
      },
      "source": [
        "decision = discriminator(generated_image, training = False)\n",
        "decision"
      ],
      "execution_count": 21,
      "outputs": [
        {
          "output_type": "execute_result",
          "data": {
            "text/plain": [
              "<tf.Tensor: shape=(1, 1), dtype=float32, numpy=array([[0.00162938]], dtype=float32)>"
            ]
          },
          "metadata": {},
          "execution_count": 21
        }
      ]
    },
    {
      "cell_type": "markdown",
      "metadata": {
        "id": "JbFoRCw471Yt"
      },
      "source": [
        "# Etapa 6: Loss function para as duas redes"
      ]
    },
    {
      "cell_type": "code",
      "metadata": {
        "id": "OMWmRYdTkUuB"
      },
      "source": [
        "#From logits indica que o valor talvez ainda não esteja normalizado\n",
        "cross_entropy = tf.keras.losses.BinaryCrossentropy(from_logits=True)"
      ],
      "execution_count": 22,
      "outputs": []
    },
    {
      "cell_type": "code",
      "metadata": {
        "id": "LbJ4u3_xkoqC"
      },
      "source": [
        "def discriminator_loss(real_output, fake_output):\n",
        "  #Compara o resultado das imagens reais com valores 1\n",
        "  real_loss = cross_entropy(tf.ones_like(real_output), real_output)\n",
        "  fake_loss = cross_entropy(tf.zeros_like(fake_output), fake_output)\n",
        "  total_loss = real_loss + fake_loss\n",
        "  return total_loss"
      ],
      "execution_count": 23,
      "outputs": []
    },
    {
      "cell_type": "code",
      "metadata": {
        "id": "cr6coEqAlcEJ"
      },
      "source": [
        "def generator_loss(fake_output):\n",
        "  return cross_entropy(tf.ones_like(fake_output), fake_output)"
      ],
      "execution_count": 24,
      "outputs": []
    },
    {
      "cell_type": "code",
      "metadata": {
        "id": "7FwviROulzjc",
        "colab": {
          "base_uri": "https://localhost:8080/"
        },
        "outputId": "cd3776d7-c91f-40bf-b4e7-de24649dc716"
      },
      "source": [
        "generator_optimizer = tf.keras.optimizers.Adam(lr=1e-4) #0.00001\n",
        "discriminator_optimizer = tf.keras.optimizers.Adam(lr=1e-4) #0.00001"
      ],
      "execution_count": 25,
      "outputs": [
        {
          "output_type": "stream",
          "name": "stderr",
          "text": [
            "/usr/local/lib/python3.7/dist-packages/keras/optimizer_v2/adam.py:105: UserWarning: The `lr` argument is deprecated, use `learning_rate` instead.\n",
            "  super(Adam, self).__init__(name, **kwargs)\n"
          ]
        }
      ]
    },
    {
      "cell_type": "code",
      "metadata": {
        "id": "B4hthLwsmD5T"
      },
      "source": [
        "checkpoint_dir = './training_checkpoints'\n",
        "checkpoint_prefix = os.path.join(checkpoint_dir, 'ckpt')\n",
        "#essa função faz com o que o modelo seja treinado salvando os modelos no checkpoint\n",
        "checkpoint = tf.train.Checkpoint(\n",
        "    generator_optimizer=generator_optimizer,\n",
        "    discriminator_optimizer=discriminator_optimizer,\n",
        "    generator=generator,\n",
        "    discriminator=discriminator)"
      ],
      "execution_count": 26,
      "outputs": []
    },
    {
      "cell_type": "markdown",
      "metadata": {
        "id": "-wRQqOeB5Zh5"
      },
      "source": [
        "# Etapa 7: Treinamento do modelo "
      ]
    },
    {
      "cell_type": "code",
      "source": [
        "epochs = 100\n",
        "noise_dim = 100\n",
        "num_examples_to_generate = 16"
      ],
      "metadata": {
        "id": "3Cp4BrkpXVHl"
      },
      "execution_count": 27,
      "outputs": []
    },
    {
      "cell_type": "code",
      "source": [
        "seed = tf.random.normal([num_examples_to_generate, noise_dim])\n",
        "seed.shape"
      ],
      "metadata": {
        "colab": {
          "base_uri": "https://localhost:8080/"
        },
        "id": "a2da3mrnXecL",
        "outputId": "ba66c22a-4148-4a2f-e603-79c734a1f2e0"
      },
      "execution_count": 28,
      "outputs": [
        {
          "output_type": "execute_result",
          "data": {
            "text/plain": [
              "TensorShape([16, 100])"
            ]
          },
          "metadata": {},
          "execution_count": 28
        }
      ]
    },
    {
      "cell_type": "code",
      "source": [
        "#Isso permite que o tensorflow saiba que ele processará isso\n",
        "@tf.function\n",
        "def train_steps(images):\n",
        "  #gera 256 seeds aleatorias\n",
        "  noise = tf.random.normal([batch_size, noise_dim])\n",
        "  \n",
        "  #permite que você controle o gradiente do modelo\n",
        "  with tf.GradientTape() as gen_tape, tf.GradientTape() as disc_tape:\n",
        "    #chamar o gerador e passar os numeros aleatórios\n",
        "    generated_images = generator(noise, training=True)\n",
        "\n",
        "    #passar para o discriminador as imagns reais e falsas para classificar \n",
        "    real_output = discriminator(images, training=True)\n",
        "    fake_output = discriminator(generated_images, training=True)\n",
        "\n",
        "    #calcular o loss do generador e discriminador\n",
        "    gen_loss = generator_loss(fake_output)\n",
        "    disc_loss = discriminator_loss(real_output, fake_output)\n",
        "\n",
        "  #calcular o gradiente das losses para atu alizar\n",
        "  gradients_of_generator = gen_tape.gradient(gen_loss, generator.trainable_variables)\n",
        "  gradients_of_discriminator = disc_tape.gradient(disc_loss, discriminator.trainable_variables)\n",
        "\n",
        "  #aplicar os otimizadores e atualizar os pesos\n",
        "  generator_optimizer.apply_gradients(zip(gradients_of_generator, generator.trainable_variables))\n",
        "  discriminator_optimizer.apply_gradients(zip(gradients_of_discriminator, discriminator.trainable_variables))"
      ],
      "metadata": {
        "id": "FsgCUTNQXjVe"
      },
      "execution_count": 29,
      "outputs": []
    },
    {
      "cell_type": "code",
      "source": [
        "def generate_and_save_images(model, epoch, test_input):\n",
        "  predictions = model(test_input, training=False)\n",
        "  fig = plt.figure(figsize=(4, 4))\n",
        "\n",
        "  for i in range(predictions.shape[0]):\n",
        "    plt.subplot(4, 4, i+1)\n",
        "    plt.imshow(predictions[i, :, :, 0] * 127.5 + 127.5, cmap='gray')\n",
        "\n",
        "    plt.axis('off')\n",
        "\n",
        "  plt.savefig('image_at_epoch{:04d}'.format(epoch))\n",
        "  plt.show()"
      ],
      "metadata": {
        "id": "UAPzBo4Mf0ap"
      },
      "execution_count": 30,
      "outputs": []
    },
    {
      "cell_type": "code",
      "source": [
        "def train(dataset, epochs):\n",
        "  for epoch in range(epochs):\n",
        "    start = time.time()\n",
        "\n",
        "    #parte de treinamento\n",
        "    for image_batch in dataset:\n",
        "      train_steps(image_batch)\n",
        "\n",
        "    #parte de visualizar resultados\n",
        "    #Vai gerar uma imagem a cada batch (sem objetivo de treinar) e salvar\n",
        "    display.clear_output(wait=True)\n",
        "    generate_and_save_images(generator, epoch+1, seed)\n",
        "\n",
        "    if(epoch + 1) % 15 == 0:\n",
        "      checkpoint.save(file_prefix=checkpoint_prefix)\n",
        "    \n",
        "    print('Time for epoch {} is {} sec'.format(epoch + 1, time.time() - start))\n",
        "  \n",
        "  display.clear_output(wait=True)\n",
        "  generate_and_save_images(generator, epoch+1, seed)"
      ],
      "metadata": {
        "id": "prbdP9n7fQR-"
      },
      "execution_count": 31,
      "outputs": []
    },
    {
      "cell_type": "code",
      "source": [
        "train(train_dataset, epochs)"
      ],
      "metadata": {
        "colab": {
          "base_uri": "https://localhost:8080/",
          "height": 247
        },
        "id": "BdRwwPJhhw4e",
        "outputId": "1af3f64a-3044-4480-8e35-050c7fb5665d"
      },
      "execution_count": 32,
      "outputs": [
        {
          "output_type": "display_data",
          "data": {
            "text/plain": [
              "<Figure size 288x288 with 16 Axes>"
            ],
            "image/png": "[encoded data removed]"
          },
          "metadata": {
            "needs_background": "light"
          }
        }
      ]
    },
    {
      "cell_type": "code",
      "source": [
        "#carrega o ultimo modelo\n",
        "checkpoint.restore(tf.train.latest_checkpoint(checkpoint_dir))"
      ],
      "metadata": {
        "colab": {
          "base_uri": "https://localhost:8080/"
        },
        "id": "q5GoQLMxjKAI",
        "outputId": "6f5515ee-e2f4-4291-e77d-ae40b365b040"
      },
      "execution_count": 33,
      "outputs": [
        {
          "output_type": "execute_result",
          "data": {
            "text/plain": [
              "<tensorflow.python.training.tracking.util.CheckpointLoadStatus at 0x7fd6401cfa10>"
            ]
          },
          "metadata": {},
          "execution_count": 33
        }
      ]
    },
    {
      "cell_type": "code",
      "source": [
        "def display_image(epoch_no):\n",
        "  return PIL.Image.open('image_at_epoch{:04d}.png'.format(epoch_no))"
      ],
      "metadata": {
        "id": "NqzOimSBjY8P"
      },
      "execution_count": 34,
      "outputs": []
    },
    {
      "cell_type": "code",
      "source": [
        "#mostra a imagem da ultima epoca\n",
        "display_image(epochs)"
      ],
      "metadata": {
        "colab": {
          "base_uri": "https://localhost:8080/",
          "height": 304
        },
        "id": "u3QuWvgTjpja",
        "outputId": "e3749086-eaf8-43e7-e6ce-c91de7d148ba"
      },
      "execution_count": 35,
      "outputs": [
        {
          "output_type": "execute_result",
          "data": {
            "text/plain": [
              "<PIL.PngImagePlugin.PngImageFile image mode=RGBA size=288x288 at 0x7FD5526FFC90>"
            ],
            "image/png": "[encoded data removed]"
          },
          "metadata": {},
          "execution_count": 35
        }
      ]
    }
  ]
}